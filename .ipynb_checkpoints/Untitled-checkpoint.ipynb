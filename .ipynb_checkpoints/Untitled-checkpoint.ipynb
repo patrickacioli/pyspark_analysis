{
 "cells": [
  {
   "cell_type": "code",
   "execution_count": 2,
   "metadata": {},
   "outputs": [],
   "source": [
    "from pyspark.context import SparkContext\n",
    "from pyspark.sql.context import SQLContext\n",
    "from pyspark.sql.session import SparkSession"
   ]
  },
  {
   "cell_type": "code",
   "execution_count": 3,
   "metadata": {},
   "outputs": [],
   "source": [
    "from pyspark.sql.functions import regexp_extract"
   ]
  },
  {
   "cell_type": "code",
   "execution_count": 4,
   "metadata": {},
   "outputs": [],
   "source": [
    "import glob"
   ]
  },
  {
   "cell_type": "code",
   "execution_count": 5,
   "metadata": {},
   "outputs": [],
   "source": [
    "import re\n",
    "import pandas as pd"
   ]
  },
  {
   "cell_type": "code",
   "execution_count": 6,
   "metadata": {},
   "outputs": [],
   "source": [
    "sc = SparkContext()\n",
    "sqlContext = SQLContext(sc)\n",
    "spark = SparkSession(sc)"
   ]
  },
  {
   "cell_type": "code",
   "execution_count": 7,
   "metadata": {},
   "outputs": [
    {
     "data": {
      "text/plain": [
       "['NASA_access_log_Jul95.gz', 'NASA_access_log_Aug95.gz']"
      ]
     },
     "execution_count": 7,
     "metadata": {},
     "output_type": "execute_result"
    }
   ],
   "source": [
    "raw_data_files = glob.glob('*.gz')\n",
    "raw_data_files"
   ]
  },
  {
   "cell_type": "code",
   "execution_count": 8,
   "metadata": {},
   "outputs": [],
   "source": [
    "base_df = spark.read.text(raw_data_files)"
   ]
  },
  {
   "cell_type": "code",
   "execution_count": 23,
   "metadata": {},
   "outputs": [],
   "source": [
    "sample_logs = [item['value'] for item in base_df.take(15)]"
   ]
  },
  {
   "cell_type": "code",
   "execution_count": 51,
   "metadata": {},
   "outputs": [
    {
     "data": {
      "text/plain": [
       "['01/Jul/1995',\n",
       " '01/Jul/1995',\n",
       " '01/Jul/1995',\n",
       " '01/Jul/1995',\n",
       " '01/Jul/1995',\n",
       " '01/Jul/1995',\n",
       " '01/Jul/1995',\n",
       " '01/Jul/1995',\n",
       " '01/Jul/1995',\n",
       " '01/Jul/1995',\n",
       " '01/Jul/1995',\n",
       " '01/Jul/1995',\n",
       " '01/Jul/1995',\n",
       " '01/Jul/1995',\n",
       " '01/Jul/1995']"
      ]
     },
     "execution_count": 51,
     "metadata": {},
     "output_type": "execute_result"
    }
   ],
   "source": [
    "ts_pattern = r'\\[(\\d{2}/\\w{3}/\\d{4})'\n",
    "timestamps = [re.search(ts_pattern, item).group(1) for item in sample_logs]\n",
    "timestamps"
   ]
  },
  {
   "cell_type": "code",
   "execution_count": 52,
   "metadata": {},
   "outputs": [
    {
     "data": {
      "text/plain": [
       "[Row(value='199.72.81.55 - - [01/Jul/1995:00:00:01 -0400] \"GET /history/apollo/ HTTP/1.0\" 200 6245'),\n",
       " Row(value='unicomp6.unicomp.net - - [01/Jul/1995:00:00:06 -0400] \"GET /shuttle/countdown/ HTTP/1.0\" 200 3985'),\n",
       " Row(value='199.120.110.21 - - [01/Jul/1995:00:00:09 -0400] \"GET /shuttle/missions/sts-73/mission-sts-73.html HTTP/1.0\" 200 4085'),\n",
       " Row(value='burger.letters.com - - [01/Jul/1995:00:00:11 -0400] \"GET /shuttle/countdown/liftoff.html HTTP/1.0\" 304 0'),\n",
       " Row(value='199.120.110.21 - - [01/Jul/1995:00:00:11 -0400] \"GET /shuttle/missions/sts-73/sts-73-patch-small.gif HTTP/1.0\" 200 4179')]"
      ]
     },
     "execution_count": 52,
     "metadata": {},
     "output_type": "execute_result"
    }
   ],
   "source": [
    "base_df.take(5)"
   ]
  },
  {
   "cell_type": "code",
   "execution_count": 53,
   "metadata": {},
   "outputs": [],
   "source": [
    "host_pattern = r'(^\\S+\\.[\\S+\\.]+\\S+)\\s'\n",
    "ts_pattern = r'\\[(\\d{2}/\\w{3}/\\d{4})'\n",
    "method_uri_protocol_pattern = r'\\\"(\\S+)\\s(\\S+)\\s*(\\S*)\\\"'\n",
    "status_pattern = r'\\s(\\d{3})\\s'\n",
    "content_size_pattern = r'\\s(\\d+)$'"
   ]
  },
  {
   "cell_type": "code",
   "execution_count": 54,
   "metadata": {},
   "outputs": [],
   "source": [
    "logs_df = base_df.select(regexp_extract('value', host_pattern, 1).alias('host'),\n",
    "                         regexp_extract('value', ts_pattern, 1).alias('timestamp'),\n",
    "                         regexp_extract('value', method_uri_protocol_pattern, 1).alias('method'),\n",
    "                         regexp_extract('value', method_uri_protocol_pattern, 2).alias('endpoint'),\n",
    "                         regexp_extract('value', method_uri_protocol_pattern, 3).alias('protocol'),\n",
    "                         regexp_extract('value', status_pattern, 1).cast('integer').alias('status'),\n",
    "                         regexp_extract('value', content_size_pattern, 1).cast('integer').alias('content_size'))"
   ]
  },
  {
   "cell_type": "code",
   "execution_count": 55,
   "metadata": {},
   "outputs": [
    {
     "data": {
      "text/plain": [
       "[Row(host='199.72.81.55', timestamp='01/Jul/1995', method='GET', endpoint='/history/apollo/', protocol='HTTP/1.0', status=200, content_size=6245),\n",
       " Row(host='unicomp6.unicomp.net', timestamp='01/Jul/1995', method='GET', endpoint='/shuttle/countdown/', protocol='HTTP/1.0', status=200, content_size=3985),\n",
       " Row(host='199.120.110.21', timestamp='01/Jul/1995', method='GET', endpoint='/shuttle/missions/sts-73/mission-sts-73.html', protocol='HTTP/1.0', status=200, content_size=4085),\n",
       " Row(host='burger.letters.com', timestamp='01/Jul/1995', method='GET', endpoint='/shuttle/countdown/liftoff.html', protocol='HTTP/1.0', status=304, content_size=0),\n",
       " Row(host='199.120.110.21', timestamp='01/Jul/1995', method='GET', endpoint='/shuttle/missions/sts-73/sts-73-patch-small.gif', protocol='HTTP/1.0', status=200, content_size=4179)]"
      ]
     },
     "execution_count": 55,
     "metadata": {},
     "output_type": "execute_result"
    }
   ],
   "source": [
    "logs_df.take(5)"
   ]
  },
  {
   "cell_type": "code",
   "execution_count": 56,
   "metadata": {},
   "outputs": [
    {
     "name": "stdout",
     "output_type": "stream",
     "text": [
      "+--------------------+\n",
      "|                host|\n",
      "+--------------------+\n",
      "|ppp3_136.bekkoame...|\n",
      "|    ppp31.texoma.com|\n",
      "|ix-wc7-20.ix.netc...|\n",
      "|nb1-du5.polarnet....|\n",
      "|    ttyb5.shasta.com|\n",
      "|dialup00004.cinet...|\n",
      "|dd14-025.compuser...|\n",
      "|nigrlpr.actrix.ge...|\n",
      "| uckm001.pn.itnet.it|\n",
      "|      queulen.puc.cl|\n",
      "|pipe2.nyc.pipelin...|\n",
      "|      198.53.164.131|\n",
      "|asdsun.larc.nasa.gov|\n",
      "|pm45-52.smartlink...|\n",
      "|     193.166.184.116|\n",
      "|       194.20.34.120|\n",
      "|dd09-021.compuser...|\n",
      "|     leo.racsa.co.cr|\n",
      "| freenet.carleton.ca|\n",
      "|  enigma.idirect.com|\n",
      "+--------------------+\n",
      "only showing top 20 rows\n",
      "\n",
      "A quantidade de hosts distintos: 137933\n"
     ]
    }
   ],
   "source": [
    "logs_df.select(\"host\").distinct().show()\n",
    "print(\"A quantidade de hosts distintos: %s\" % (logs_df.select(\"host\").distinct().count()))"
   ]
  },
  {
   "cell_type": "code",
   "execution_count": 57,
   "metadata": {},
   "outputs": [],
   "source": [
    "logs_404 = logs_df.select(\"status\").where(logs_df.status == 404)"
   ]
  },
  {
   "cell_type": "code",
   "execution_count": 58,
   "metadata": {},
   "outputs": [],
   "source": [
    "from pyspark.sql.functions import col"
   ]
  },
  {
   "cell_type": "code",
   "execution_count": 59,
   "metadata": {
    "scrolled": true
   },
   "outputs": [
    {
     "data": {
      "text/plain": [
       "20899"
      ]
     },
     "execution_count": 59,
     "metadata": {},
     "output_type": "execute_result"
    }
   ],
   "source": [
    "logs_404.count()"
   ]
  },
  {
   "cell_type": "code",
   "execution_count": 60,
   "metadata": {},
   "outputs": [
    {
     "name": "stdout",
     "output_type": "stream",
     "text": [
      "+--------------------+-----+\n",
      "|            endpoint|count|\n",
      "+--------------------+-----+\n",
      "|/pub/winvn/readme...| 2004|\n",
      "|/pub/winvn/releas...| 1732|\n",
      "|/shuttle/missions...|  683|\n",
      "|/shuttle/missions...|  428|\n",
      "|/history/apollo/a...|  384|\n",
      "+--------------------+-----+\n",
      "only showing top 5 rows\n",
      "\n"
     ]
    }
   ],
   "source": [
    "logs_df.select(\"endpoint\").where(logs_df.status == 404).groupby(\"endpoint\").count().sort(col(\"count\").desc()).show(5)"
   ]
  },
  {
   "cell_type": "code",
   "execution_count": 61,
   "metadata": {},
   "outputs": [],
   "source": [
    "from pyspark.sql.functions import to_date"
   ]
  },
  {
   "cell_type": "code",
   "execution_count": 65,
   "metadata": {},
   "outputs": [
    {
     "name": "stdout",
     "output_type": "stream",
     "text": [
      "+-----------+-----+\n",
      "|  timestamp|count|\n",
      "+-----------+-----+\n",
      "|01/Aug/1995|  243|\n",
      "|01/Jul/1995|  316|\n",
      "|02/Jul/1995|  291|\n",
      "|03/Aug/1995|  304|\n",
      "|03/Jul/1995|  474|\n",
      "|04/Aug/1995|  346|\n",
      "|04/Jul/1995|  359|\n",
      "|05/Aug/1995|  236|\n",
      "|05/Jul/1995|  497|\n",
      "|06/Aug/1995|  373|\n",
      "|06/Jul/1995|  640|\n",
      "|07/Aug/1995|  537|\n",
      "|07/Jul/1995|  570|\n",
      "|08/Aug/1995|  391|\n",
      "|08/Jul/1995|  300|\n",
      "|09/Aug/1995|  279|\n",
      "|09/Jul/1995|  348|\n",
      "|10/Aug/1995|  315|\n",
      "|10/Jul/1995|  398|\n",
      "|11/Aug/1995|  263|\n",
      "|11/Jul/1995|  471|\n",
      "|12/Aug/1995|  196|\n",
      "|12/Jul/1995|  471|\n",
      "|13/Aug/1995|  216|\n",
      "|13/Jul/1995|  532|\n",
      "|14/Aug/1995|  287|\n",
      "|14/Jul/1995|  413|\n",
      "|15/Aug/1995|  327|\n",
      "|15/Jul/1995|  254|\n",
      "|16/Aug/1995|  259|\n",
      "|16/Jul/1995|  257|\n",
      "|17/Aug/1995|  271|\n",
      "|17/Jul/1995|  406|\n",
      "|18/Aug/1995|  256|\n",
      "|18/Jul/1995|  465|\n",
      "|19/Aug/1995|  209|\n",
      "|19/Jul/1995|  639|\n",
      "|20/Aug/1995|  312|\n",
      "|20/Jul/1995|  428|\n",
      "|21/Aug/1995|  305|\n",
      "|21/Jul/1995|  334|\n",
      "|22/Aug/1995|  288|\n",
      "|22/Jul/1995|  192|\n",
      "|23/Aug/1995|  345|\n",
      "|23/Jul/1995|  233|\n",
      "|24/Aug/1995|  420|\n",
      "|24/Jul/1995|  328|\n",
      "|25/Aug/1995|  415|\n",
      "|25/Jul/1995|  461|\n",
      "|26/Aug/1995|  366|\n",
      "|26/Jul/1995|  336|\n",
      "|27/Aug/1995|  370|\n",
      "|27/Jul/1995|  336|\n",
      "|28/Aug/1995|  410|\n",
      "|28/Jul/1995|   94|\n",
      "|29/Aug/1995|  420|\n",
      "|30/Aug/1995|  571|\n",
      "|31/Aug/1995|  526|\n",
      "+-----------+-----+\n",
      "\n"
     ]
    }
   ],
   "source": [
    "logs_df.select([\"status\", \"timestamp\"]).where(logs_df.status == 404).groupby(\"timestamp\").count().sort(col(\"timestamp\").asc()).show(60)"
   ]
  },
  {
   "cell_type": "code",
   "execution_count": 88,
   "metadata": {},
   "outputs": [],
   "source": [
    "logs_df = logs_df.na.fill({'content_size': 0})"
   ]
  },
  {
   "cell_type": "code",
   "execution_count": 92,
   "metadata": {},
   "outputs": [],
   "source": [
    "import numpy as np "
   ]
  },
  {
   "cell_type": "code",
   "execution_count": 100,
   "metadata": {},
   "outputs": [],
   "source": [
    "from pyspark.sql import functions as F"
   ]
  },
  {
   "cell_type": "code",
   "execution_count": 112,
   "metadata": {},
   "outputs": [],
   "source": [
    "total = logs_df.groupBy().agg(F.sum(\"content_size\")).collect()[0][0]"
   ]
  },
  {
   "cell_type": "code",
   "execution_count": null,
   "metadata": {},
   "outputs": [],
   "source": []
  }
 ],
 "metadata": {
  "kernelspec": {
   "display_name": "Python 3",
   "language": "python",
   "name": "python3"
  },
  "language_info": {
   "codemirror_mode": {
    "name": "ipython",
    "version": 3
   },
   "file_extension": ".py",
   "mimetype": "text/x-python",
   "name": "python",
   "nbconvert_exporter": "python",
   "pygments_lexer": "ipython3",
   "version": "3.6.7"
  }
 },
 "nbformat": 4,
 "nbformat_minor": 2
}
